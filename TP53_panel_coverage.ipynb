{
 "cells": [
  {
   "cell_type": "code",
   "execution_count": null,
   "metadata": {},
   "outputs": [],
   "source": [
    "from cyclomics import *\n",
    "from matplotlib.ticker import PercentFormatter"
   ]
  },
  {
   "cell_type": "code",
   "execution_count": null,
   "metadata": {},
   "outputs": [],
   "source": [
    "##USER INPUTS\n",
    "\n",
    "#specify data folder\n",
    "#data from https://zenodo.org/record/3925250/files/Cyclomics_manuscript.zip\n",
    "data_folder = f'/Volumes/1TB/Cyclomics_manuscript/RCA'\n",
    "\n",
    "output_folder = f'/Volumes/1TB/Cyclomics_manuscript/Results'\n",
    "os.mkdir(output_folder)\n",
    "\n",
    "#Two samples, one sequenced with a Flongle, the other one with an R9\n",
    "samples = [\n",
    "    'CY_SM_PC_HC_0004_003_000',\n",
    "    'CY_SM_PC_HC_0004_004_000'\n",
    "]"
   ]
  },
  {
   "cell_type": "code",
   "execution_count": null,
   "metadata": {},
   "outputs": [],
   "source": [
    "#You may need manually everride this if the path is not correct\n",
    "bam1 = f'{data_folder}/{samples[0]}/{samples[0]}_full_consensus.sorted.bam'\n",
    "bam2 = f'{data_folder}/{samples[1]}/{samples[1]}_full_consensus.sorted.bam'"
   ]
  },
  {
   "cell_type": "code",
   "execution_count": null,
   "metadata": {},
   "outputs": [],
   "source": [
    "coverage1 = bam1.replace('.bam','.coverage')\n",
    "coverage2 = bam2.replace('.bam','.coverage')"
   ]
  },
  {
   "cell_type": "code",
   "execution_count": null,
   "metadata": {},
   "outputs": [],
   "source": [
    "#Get coverage\n",
    "!samtools depth -d 0 $bam1 > $coverage1\n",
    "!samtools depth -d 0 $bam2 > $coverage2\n",
    "\n",
    "##The default limit is 8000! "
   ]
  },
  {
   "cell_type": "code",
   "execution_count": null,
   "metadata": {},
   "outputs": [],
   "source": [
    "df1 = pd.read_csv(coverage1, sep='\\t', header=0, names=['CHR','POS','COV'])\n",
    "df2 = pd.read_csv(coverage2, sep='\\t', header=0, names=['CHR','POS','COV'])\n",
    "#display(df1.head())\n",
    "#display(df2.head())"
   ]
  },
  {
   "cell_type": "code",
   "execution_count": null,
   "metadata": {},
   "outputs": [],
   "source": [
    "#Select chr17\n",
    "chr17_1 = df1.loc[(df1.CHR == '17')]\n",
    "chr17_2 = df2.loc[(df2.CHR == '17')]\n",
    "\n",
    "r = (chr17_1.index[0], chr17_1.index[-1], chr17_2.index[0], chr17_2.index[-1])\n",
    "start = min(r)\n",
    "end = max(r)\n",
    "\n",
    "#Select TP53 (17:7,565,097-7,590,856)\n",
    "tp53_1 = chr17_1.loc[(chr17_1.POS > 7_565_097) & (chr17_1.POS < 7_590_856) ]\n",
    "tp53_2 = chr17_2.loc[(chr17_2.POS > 7_565_097) & (chr17_2.POS < 7_590_856) ]\n",
    "\n",
    "print(tp53_1.index[0], tp53_1.index[-1])\n",
    "print(tp53_2.index[0], tp53_2.index[-1])"
   ]
  },
  {
   "cell_type": "code",
   "execution_count": null,
   "metadata": {},
   "outputs": [],
   "source": [
    "#Plot coverage on TP53 - R9 run\n",
    "plt.style.use(style)\n",
    "plt.rcParams.update({'font.size': 20, 'text.color': 'black'})\n",
    "plt.figure(figsize=(16,9))\n",
    "tp53_1.plot(\n",
    "    kind='area',\n",
    "    x='POS',\n",
    "    y='COV',\n",
    "    #color='tomato',\n",
    "    alpha=1,#0.5,\n",
    "    figsize=(16,9)\n",
    ")\n",
    "plt.xlim([7_572_500, 7_580_500])\n",
    "plt.ylim([0, 50_000])\n",
    "plt.xticks([7_572_500, 7_580_500], rotation=70)\n",
    "plt.legend(loc='upper right', bbox_to_anchor=(1.3,1))\n",
    "plt.ylabel('coverage')\n",
    "\n",
    "bam = bam1.split('/')[-1]\n",
    "plt.title(bam+'\\n')\n",
    "output_file = bam.replace('.bam','_coverage_lim_at_50k.pdf')\n",
    "plt.savefig(output_file, bbox_inches='tight')\n",
    "plt.show()"
   ]
  },
  {
   "cell_type": "code",
   "execution_count": null,
   "metadata": {},
   "outputs": [],
   "source": [
    "#Plot histogram on TP53 - R9 run\n",
    "data = tp53_1[tp53_1.COV >= 10].COV\n",
    "bins = [10, 100, 1_000, 10_000, 100_000]\n",
    "\n",
    "plt.figure(figsize=(10,8))\n",
    "data.plot(\n",
    "    kind = 'hist',\n",
    "    bins = bins,\n",
    "    weights = np.ones(len(data)) / len(data),\n",
    "    rwidth = 0.99,\n",
    ")\n",
    "\n",
    "plt.xscale('log')\n",
    "plt.ylabel('Frequency\\n')\n",
    "plt.xlabel('\\nCoverage')\n",
    "plt.xticks(bins, ['' for _ in bins])\n",
    "plt.gca().yaxis.set_major_formatter(PercentFormatter(1))\n",
    "plt.savefig(output_folder + '/' + 'COSMIC_coverage_frequency_R9.pdf', bbox_inches='tight')\n",
    "plt.show()"
   ]
  },
  {
   "cell_type": "code",
   "execution_count": null,
   "metadata": {},
   "outputs": [],
   "source": [
    "#Plot coverage on TP53 - Flongle run\n",
    "plt.style.use(style)\n",
    "plt.rcParams.update({'font.size': 20, 'text.color': 'black'})\n",
    "plt.figure(figsize=(16,9))\n",
    "tp53_2.plot(\n",
    "    kind='area',\n",
    "    x='POS',\n",
    "    y='COV',\n",
    "    #color='tomato',\n",
    "    alpha=1,#0.5,\n",
    "    figsize=(16,9)\n",
    ")\n",
    "plt.xlim([7_572_500, 7_580_500])\n",
    "plt.ylim([0, 50_000])\n",
    "plt.xticks([7_572_500, 7_580_500], rotation=70)\n",
    "plt.legend(loc='upper right', bbox_to_anchor=(1.3,1))\n",
    "plt.ylabel('coverage')\n",
    "\n",
    "bam = bam2.split('/')[-1]\n",
    "plt.title(bam+'\\n')\n",
    "output_file = output_folder + '/' + bam.replace('.bam','_coverage_lim_at_50k.pdf')\n",
    "plt.savefig(output_file, bbox_inches='tight')\n",
    "plt.show()"
   ]
  },
  {
   "cell_type": "code",
   "execution_count": null,
   "metadata": {},
   "outputs": [],
   "source": [
    "#Plot histogram on TP53 - Flongle run\n",
    "data = tp53_2[tp53_2.COV >= 10].COV\n",
    "bins = [10, 100, 1_000, 10_000, 100_000]\n",
    "\n",
    "plt.figure(figsize=(10,8))\n",
    "data.plot(\n",
    "    kind = 'hist',\n",
    "    bins = bins,\n",
    "    weights = np.ones(len(data)) / len(data),\n",
    "    rwidth = 0.99,\n",
    ")\n",
    "\n",
    "plt.xscale('log')\n",
    "plt.ylabel('Frequency\\n')\n",
    "plt.xlabel('\\nCoverage')\n",
    "plt.xticks(bins, ['' for _ in bins])\n",
    "plt.gca().yaxis.set_major_formatter(PercentFormatter(1))\n",
    "plt.savefig(output_folder + '/' + 'COSMIC_coverage_frequency_Flongle.pdf', bbox_inches='tight')\n",
    "plt.show()"
   ]
  }
 ],
 "metadata": {
  "kernelspec": {
   "display_name": "Python 3",
   "language": "python",
   "name": "python3"
  },
  "language_info": {
   "codemirror_mode": {
    "name": "ipython",
    "version": 3
   },
   "file_extension": ".py",
   "mimetype": "text/x-python",
   "name": "python",
   "nbconvert_exporter": "python",
   "pygments_lexer": "ipython3",
   "version": "3.6.10"
  }
 },
 "nbformat": 4,
 "nbformat_minor": 4
}
